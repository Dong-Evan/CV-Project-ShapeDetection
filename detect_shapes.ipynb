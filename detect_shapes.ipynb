{
 "cells": [
  {
   "cell_type": "markdown",
   "metadata": {},
   "source": [
    "# Computer Vision Project - Detecting Basic Shapes in Images "
   ]
  },
  {
   "cell_type": "code",
   "execution_count": null,
   "metadata": {},
   "outputs": [],
   "source": [
    "# background images source: https://www.kaggle.com/datasets/balraj98/stanford-background-dataset?resource=download"
   ]
  },
  {
   "cell_type": "code",
   "execution_count": 1,
   "metadata": {},
   "outputs": [],
   "source": [
    "import cv2\n",
    "import numpy as np\n",
    "import os\n",
    "import random\n",
    "import math"
   ]
  },
  {
   "cell_type": "code",
   "execution_count": 14,
   "metadata": {},
   "outputs": [],
   "source": [
    "# functions to generate a dataset of images with random shapes (circle, square, triangle) \n",
    "# that have random positions, sizes, rotation (unimplemented), and color, then saves them in YOLO format.\n",
    "\n",
    "# helper function used to create a shape on the image\n",
    "# parameters:\n",
    "    # img: the image to draw on\n",
    "    # shape: the type of shape to draw as string (e.g., circle, square, triangle)\n",
    "    # img_size: the size of the image (used to determine the size of the shape)\n",
    "# returns: the bounding box of the shape in the format [x1, y1, x2, y2]\n",
    "def create_shape(image, shape, image_size):\n",
    "    image_w, image_h, _ = image.shape # get the height, width, and number of channels of the image\n",
    "    shape_size = random.randint(int(image_size * 0.05), int(image_size * 0.8)) # get random size between 10% and 90% of the image size for the shape\n",
    "    shape_x, shape_y = random.randint(0, image_h - shape_size), random.randint(0, image_w - shape_size) # get random x and y coordinates for the shape within the image bounds\n",
    "    angle = random.uniform(0, 360)  # Random rotation in degrees\n",
    "    color = tuple(random.randint(0, 255) for _ in range(3)) # get random color for the image in BGR format\n",
    "    # draw the shape on the image based on the type of shape\n",
    "    # and return the (corner positions of the) bounding box of the shape\n",
    "    if shape == \"circle\":\n",
    "        center = (shape_x + shape_size // 2, shape_y + shape_size // 2)\n",
    "        cv2.circle(image, center, shape_size // 2, color, -1)\n",
    "        bbox = [shape_x, shape_y, shape_x + shape_size, shape_y + shape_size] \n",
    "    \n",
    "    elif shape == \"square\":\n",
    "        center = (shape_x + shape_size // 2, shape_y + shape_size // 2)\n",
    "        rect = ((center[0], center[1]), (shape_size, shape_size), angle)\n",
    "        box = cv2.boxPoints(rect).astype(np.int32)\n",
    "        cv2.drawContours(image, [box], 0, color, -1)\n",
    "        # get the bounding box of the square points ('box')\n",
    "        shape_x, shape_y, w, h = cv2.boundingRect(box)\n",
    "        bbox = [shape_x, shape_y, shape_x + w, shape_y + h]\n",
    "    \n",
    "    elif shape == \"triangle\":\n",
    "        # create points for the triangle based on the size \n",
    "        pts = np.array([[0, shape_size], [shape_size, shape_size], [shape_size // 2, 0]], np.float32)\n",
    "        M = cv2.getRotationMatrix2D((shape_size // 2, shape_size // 2), angle, 1.0)\n",
    "        # rotate the points around the center of the triangle and translate them back to original position\n",
    "        rotated_pts = cv2.transform(np.array([pts]), M)[0] + [shape_x, shape_y]\n",
    "        pts_int = rotated_pts.astype(np.int32)\n",
    "        cv2.fillPoly(image, [pts_int], color)\n",
    "        # get the bounding box of the triangle points ('pts_int')\n",
    "        shape_x, shape_y, w, h = cv2.boundingRect(pts_int)\n",
    "        bbox = [shape_x, shape_y, shape_x + w, shape_y + h]\n",
    "\n",
    "    return bbox\n",
    "\n",
    "\n",
    "# helper function used to create a background with random colors\n",
    "# parameters:\n",
    "    # img_size: the size of the image (used to determine the size of the background)\n",
    "    # gradient: bool to determine whether to create a gradient background or a solid color background\n",
    "# returns: the background image as a numpy array\n",
    "def generate_background(image_size, background_dir=None):\n",
    "    random_num = random.randint(0, 100) # generate a random number between 0 and 100\n",
    "    # if random number < #, use a random background image from the specified directory\n",
    "    if random_num < 60:\n",
    "        # check if the background_dir is provided and exists\n",
    "        if background_dir and os.path.exists(background_dir):\n",
    "            real_bg_files = [f for f in os.listdir(background_dir) if f.lower().endswith((\".jpg\", \".png\"))]\n",
    "            if real_bg_files:\n",
    "                bg_path = os.path.join(background_dir, random.choice(real_bg_files))\n",
    "                background = cv2.imread(bg_path)\n",
    "                background = cv2.resize(background, (image_size, image_size)) # resize the background to match others\n",
    "                return background\n",
    "    if random_num < 95:\n",
    "        return generate_gradient_background(image_size, direction=random.choice(['horizontal', 'vertical']))\n",
    "    else:\n",
    "        color = tuple(random.randint(0, 255) for _ in range(3))\n",
    "        background = np.full((image_size, image_size, 3), color, dtype=np.uint8)\n",
    "        return background\n",
    "\n",
    "\n",
    "# helper function used to create a gradient background with random colors\n",
    "# parameters:\n",
    "    # image_size: the size of the image (used to determine the size of the background)\n",
    "    # direction: the direction of the gradient (horizontal or vertical)\n",
    "# returns: the gradient background image as a numpy array\n",
    "def generate_gradient_background(image_size, direction='vertical'):\n",
    "    # generate two random colors for the gradient (gradient starts from one color and ends at the other color)\n",
    "    start_color = np.random.randint(0, 256, size=3)\n",
    "    end_color = np.random.randint(0, 256, size=3)\n",
    "\n",
    "    if direction == 'vertical':\n",
    "        # loop through image size (i.e., pixels) and assign the color to each pixel based on the gradient\n",
    "        gradient = np.linspace(start_color, end_color, image_size).astype(np.uint8)\n",
    "        gradient = np.tile(gradient[:, np.newaxis, :], (1, image_size, 1))\n",
    "    else:  # horizontal\n",
    "        gradient = np.linspace(start_color, end_color, image_size).astype(np.uint8)\n",
    "        gradient = np.tile(gradient[np.newaxis, :, :], (image_size, 1, 1))\n",
    "\n",
    "    return gradient\n",
    "\n",
    "# used to generate the dataset of shape images\n",
    "# parameters:\n",
    "    # output_dir: the directory to save the generated images and labels\n",
    "    # num_images: the number of images to generate\n",
    "    # img_size: the size of the image (width and height)\n",
    "    # min_shapes: minimum number of shapes in each image\n",
    "    # max_shapes: maximum number of shapes in each image\n",
    "    # gradient_bg: whether to use a gradient background or a solid color background\n",
    "# returns: None (the function saves the images and labels in the specified directory)\n",
    "def generate_dataset(output_dir, num_images = 1000, image_size = 256, min_shapes = 1, max_shapes = 2, background_dir = None):\n",
    "    # Create output directories for images and labels\n",
    "    os.makedirs(output_dir, exist_ok=True)  # create the output directory if it doesn't exist\n",
    "    labels_dir = os.path.join(output_dir, \"labels/val\") #labels/train, labels/val, labels/test\n",
    "    images_dir = os.path.join(output_dir, \"images/val\") #images/train, images/val, images/test\n",
    "    os.makedirs(labels_dir, exist_ok = True)\n",
    "    os.makedirs(images_dir, exist_ok = True)\n",
    "    \n",
    "    shape_classes = {\"circle\": 0, \"square\": 1, \"triangle\": 2} # shape dict with shape names as keys and class indices as values\n",
    "    \n",
    "    # loop through the number of images desired and create an image for each one\n",
    "    for i in range(num_images):\n",
    "        image = generate_background(image_size, background_dir = background_dir) # generate a random background for the image\n",
    "        num_shapes = random.randint(min_shapes, max_shapes)  # Number of shapes per image\n",
    "        \n",
    "        annotations = []\n",
    "        # Loop through the number of shapes desired for the image and create a shape in the image for each one\n",
    "        for _ in range(num_shapes):\n",
    "            shape = random.choice(list(shape_classes.keys()))   # pick a random shape from the keys for the dict of shapes\n",
    "            bbox = create_shape(image, shape, image_size)           # create the shape in the image and get its bounding box\n",
    "            \n",
    "            # Convert to YOLO format\n",
    "            x_center = (bbox[0] + bbox[2]) / 2 / image_size\n",
    "            y_center = (bbox[1] + bbox[3]) / 2 / image_size\n",
    "            width = (bbox[2] - bbox[0]) / image_size\n",
    "            height = (bbox[3] - bbox[1]) / image_size\n",
    "            # append class index of the shape using 'shape' key from the dict of shapes and rest of the calculated values\n",
    "            annotations.append(f\"{shape_classes[shape]} {x_center:.6f} {y_center:.6f} {width:.6f} {height:.6f}\")\n",
    "        \n",
    "        # Save image\n",
    "        img_path = os.path.join(images_dir, f\"{i}.jpg\")\n",
    "        cv2.imwrite(img_path, image)\n",
    "        \n",
    "        # Save annotation file\n",
    "        label_path = os.path.join(labels_dir, f\"{i}.txt\")\n",
    "        with open(label_path, \"w\") as f:\n",
    "            f.write(\"\\n\".join(annotations))\n",
    "    \n",
    "    print(f\"Dataset generated: {num_images} images in {output_dir}\")"
   ]
  },
  {
   "cell_type": "code",
   "execution_count": 15,
   "metadata": {},
   "outputs": [
    {
     "name": "stdout",
     "output_type": "stream",
     "text": [
      "Dataset generated: 250 images in shape_dataset2\n"
     ]
    }
   ],
   "source": [
    "# generate dataset\n",
    "generate_dataset(\"shape_dataset2\", num_images=250, image_size=256, min_shapes=1, max_shapes=2, background_dir=\"./backgrounds\")"
   ]
  },
  {
   "cell_type": "code",
   "execution_count": null,
   "metadata": {},
   "outputs": [],
   "source": [
    "'''\n",
    "yaml file for the dataset:\n",
    "\n",
    "path: C:/Users/endle/.Uni/Computer_Vision/project_shapes/CV-Project-ShapeDetection/shape_dataset\n",
    "train: images/train\n",
    "val: images/val\n",
    "test: images/test\n",
    "nc: 3\n",
    "names: ['circle', 'square', 'triangle']\n",
    "\n",
    "'''"
   ]
  },
  {
   "cell_type": "code",
   "execution_count": 16,
   "metadata": {},
   "outputs": [],
   "source": [
    "from ultralytics import YOLO\n",
    "import yaml\n",
    "from ultralytics.utils.plotting import Annotator\n",
    "import matplotlib.pyplot as plt\n",
    "%matplotlib inline"
   ]
  },
  {
   "cell_type": "code",
   "execution_count": 17,
   "metadata": {},
   "outputs": [],
   "source": [
    "# get a pretrained YOLOv8 model\n",
    "model = YOLO(\"yolov8n.pt\") # load the YOLOv8 model"
   ]
  },
  {
   "cell_type": "code",
   "execution_count": 18,
   "metadata": {},
   "outputs": [
    {
     "name": "stdout",
     "output_type": "stream",
     "text": [
      "New https://pypi.org/project/ultralytics/8.3.101 available  Update with 'pip install -U ultralytics'\n",
      "Ultralytics 8.3.88  Python-3.12.7 torch-2.6.0+cu126 CUDA:0 (NVIDIA GeForce RTX 4070, 12281MiB)\n",
      "\u001b[34m\u001b[1mengine\\trainer: \u001b[0mtask=detect, mode=train, model=yolov8n.pt, data=./shape_dataset2/shapes.yaml, epochs=10, time=None, patience=100, batch=16, imgsz=256, save=True, save_period=-1, cache=False, device=None, workers=8, project=./runs/detect, name=yolo_shapes4, exist_ok=False, pretrained=True, optimizer=auto, verbose=True, seed=0, deterministic=True, single_cls=False, rect=False, cos_lr=False, close_mosaic=10, resume=False, amp=True, fraction=1.0, profile=False, freeze=None, multi_scale=False, overlap_mask=True, mask_ratio=4, dropout=0.0, val=True, split=val, save_json=False, save_hybrid=False, conf=None, iou=0.7, max_det=300, half=False, dnn=False, plots=True, source=None, vid_stride=1, stream_buffer=False, visualize=False, augment=False, agnostic_nms=False, classes=None, retina_masks=False, embed=None, show=False, save_frames=False, save_txt=False, save_conf=False, save_crop=False, show_labels=True, show_conf=True, show_boxes=True, line_width=None, format=torchscript, keras=False, optimize=False, int8=False, dynamic=False, simplify=True, opset=None, workspace=None, nms=False, lr0=0.01, lrf=0.01, momentum=0.937, weight_decay=0.0005, warmup_epochs=3.0, warmup_momentum=0.8, warmup_bias_lr=0.1, box=7.5, cls=0.5, dfl=1.5, pose=12.0, kobj=1.0, nbs=64, hsv_h=0.015, hsv_s=0.7, hsv_v=0.4, degrees=0.0, translate=0.1, scale=0.5, shear=0.0, perspective=0.0, flipud=0.0, fliplr=0.5, bgr=0.0, mosaic=1.0, mixup=0.0, copy_paste=0.0, copy_paste_mode=flip, auto_augment=randaugment, erasing=0.4, crop_fraction=1.0, cfg=None, tracker=botsort.yaml, save_dir=runs\\detect\\yolo_shapes4\n",
      "Overriding model.yaml nc=80 with nc=3\n",
      "\n",
      "                   from  n    params  module                                       arguments                     \n",
      "  0                  -1  1       464  ultralytics.nn.modules.conv.Conv             [3, 16, 3, 2]                 \n",
      "  1                  -1  1      4672  ultralytics.nn.modules.conv.Conv             [16, 32, 3, 2]                \n",
      "  2                  -1  1      7360  ultralytics.nn.modules.block.C2f             [32, 32, 1, True]             \n",
      "  3                  -1  1     18560  ultralytics.nn.modules.conv.Conv             [32, 64, 3, 2]                \n",
      "  4                  -1  2     49664  ultralytics.nn.modules.block.C2f             [64, 64, 2, True]             \n",
      "  5                  -1  1     73984  ultralytics.nn.modules.conv.Conv             [64, 128, 3, 2]               \n",
      "  6                  -1  2    197632  ultralytics.nn.modules.block.C2f             [128, 128, 2, True]           \n",
      "  7                  -1  1    295424  ultralytics.nn.modules.conv.Conv             [128, 256, 3, 2]              \n",
      "  8                  -1  1    460288  ultralytics.nn.modules.block.C2f             [256, 256, 1, True]           \n",
      "  9                  -1  1    164608  ultralytics.nn.modules.block.SPPF            [256, 256, 5]                 \n",
      " 10                  -1  1         0  torch.nn.modules.upsampling.Upsample         [None, 2, 'nearest']          \n",
      " 11             [-1, 6]  1         0  ultralytics.nn.modules.conv.Concat           [1]                           \n",
      " 12                  -1  1    148224  ultralytics.nn.modules.block.C2f             [384, 128, 1]                 \n",
      " 13                  -1  1         0  torch.nn.modules.upsampling.Upsample         [None, 2, 'nearest']          \n",
      " 14             [-1, 4]  1         0  ultralytics.nn.modules.conv.Concat           [1]                           \n",
      " 15                  -1  1     37248  ultralytics.nn.modules.block.C2f             [192, 64, 1]                  \n",
      " 16                  -1  1     36992  ultralytics.nn.modules.conv.Conv             [64, 64, 3, 2]                \n",
      " 17            [-1, 12]  1         0  ultralytics.nn.modules.conv.Concat           [1]                           \n",
      " 18                  -1  1    123648  ultralytics.nn.modules.block.C2f             [192, 128, 1]                 \n",
      " 19                  -1  1    147712  ultralytics.nn.modules.conv.Conv             [128, 128, 3, 2]              \n",
      " 20             [-1, 9]  1         0  ultralytics.nn.modules.conv.Concat           [1]                           \n",
      " 21                  -1  1    493056  ultralytics.nn.modules.block.C2f             [384, 256, 1]                 \n",
      " 22        [15, 18, 21]  1    751897  ultralytics.nn.modules.head.Detect           [3, [64, 128, 256]]           \n",
      "Model summary: 129 layers, 3,011,433 parameters, 3,011,417 gradients, 8.2 GFLOPs\n",
      "\n",
      "Transferred 319/355 items from pretrained weights\n",
      "Freezing layer 'model.22.dfl.conv.weight'\n",
      "\u001b[34m\u001b[1mAMP: \u001b[0mrunning Automatic Mixed Precision (AMP) checks...\n",
      "\u001b[34m\u001b[1mAMP: \u001b[0mchecks passed \n"
     ]
    },
    {
     "name": "stderr",
     "output_type": "stream",
     "text": [
      "\u001b[34m\u001b[1mtrain: \u001b[0mScanning C:\\Users\\endle\\.Uni\\Computer_Vision\\project_shapes\\CV-Project-ShapeDetection\\shape_dataset2\\labels\\train... 1200 images, 0 backgrounds, 28 corrupt: 100%|██████████| 1200/1200 [00:00<00:00, 1482.04it/s]"
     ]
    },
    {
     "name": "stdout",
     "output_type": "stream",
     "text": [
      "\u001b[34m\u001b[1mtrain: \u001b[0mWARNING  C:\\Users\\endle\\.Uni\\Computer_Vision\\project_shapes\\CV-Project-ShapeDetection\\shape_dataset2\\images\\train\\1080.jpg: ignoring corrupt image/label: non-normalized or out of bounds coordinates [     1.0195      1.0195]\n",
      "\u001b[34m\u001b[1mtrain: \u001b[0mWARNING  C:\\Users\\endle\\.Uni\\Computer_Vision\\project_shapes\\CV-Project-ShapeDetection\\shape_dataset2\\images\\train\\1099.jpg: ignoring corrupt image/label: non-normalized or out of bounds coordinates [     1.0859      1.0859]\n",
      "\u001b[34m\u001b[1mtrain: \u001b[0mWARNING  C:\\Users\\endle\\.Uni\\Computer_Vision\\project_shapes\\CV-Project-ShapeDetection\\shape_dataset2\\images\\train\\1128.jpg: ignoring corrupt image/label: non-normalized or out of bounds coordinates [     1.0117      1.0156]\n",
      "\u001b[34m\u001b[1mtrain: \u001b[0mWARNING  C:\\Users\\endle\\.Uni\\Computer_Vision\\project_shapes\\CV-Project-ShapeDetection\\shape_dataset2\\images\\train\\113.jpg: ignoring corrupt image/label: non-normalized or out of bounds coordinates [     1.0195      1.0195]\n",
      "\u001b[34m\u001b[1mtrain: \u001b[0mWARNING  C:\\Users\\endle\\.Uni\\Computer_Vision\\project_shapes\\CV-Project-ShapeDetection\\shape_dataset2\\images\\train\\236.jpg: ignoring corrupt image/label: non-normalized or out of bounds coordinates [     1.0508      1.0508]\n",
      "\u001b[34m\u001b[1mtrain: \u001b[0mWARNING  C:\\Users\\endle\\.Uni\\Computer_Vision\\project_shapes\\CV-Project-ShapeDetection\\shape_dataset2\\images\\train\\263.jpg: ignoring corrupt image/label: non-normalized or out of bounds coordinates [     1.0469      1.0469]\n",
      "\u001b[34m\u001b[1mtrain: \u001b[0mWARNING  C:\\Users\\endle\\.Uni\\Computer_Vision\\project_shapes\\CV-Project-ShapeDetection\\shape_dataset2\\images\\train\\303.jpg: ignoring corrupt image/label: non-normalized or out of bounds coordinates [     1.0664      1.0664]\n",
      "\u001b[34m\u001b[1mtrain: \u001b[0mWARNING  C:\\Users\\endle\\.Uni\\Computer_Vision\\project_shapes\\CV-Project-ShapeDetection\\shape_dataset2\\images\\train\\309.jpg: ignoring corrupt image/label: non-normalized or out of bounds coordinates [     1.0234      1.0195]\n",
      "\u001b[34m\u001b[1mtrain: \u001b[0mWARNING  C:\\Users\\endle\\.Uni\\Computer_Vision\\project_shapes\\CV-Project-ShapeDetection\\shape_dataset2\\images\\train\\319.jpg: ignoring corrupt image/label: non-normalized or out of bounds coordinates [     1.0742      1.0742]\n",
      "\u001b[34m\u001b[1mtrain: \u001b[0mWARNING  C:\\Users\\endle\\.Uni\\Computer_Vision\\project_shapes\\CV-Project-ShapeDetection\\shape_dataset2\\images\\train\\348.jpg: ignoring corrupt image/label: non-normalized or out of bounds coordinates [     1.0352      1.0391]\n",
      "\u001b[34m\u001b[1mtrain: \u001b[0mWARNING  C:\\Users\\endle\\.Uni\\Computer_Vision\\project_shapes\\CV-Project-ShapeDetection\\shape_dataset2\\images\\train\\355.jpg: ignoring corrupt image/label: non-normalized or out of bounds coordinates [     1.0039      1.0078]\n",
      "\u001b[34m\u001b[1mtrain: \u001b[0mWARNING  C:\\Users\\endle\\.Uni\\Computer_Vision\\project_shapes\\CV-Project-ShapeDetection\\shape_dataset2\\images\\train\\397.jpg: ignoring corrupt image/label: non-normalized or out of bounds coordinates [     1.0195      1.0234]\n",
      "\u001b[34m\u001b[1mtrain: \u001b[0mWARNING  C:\\Users\\endle\\.Uni\\Computer_Vision\\project_shapes\\CV-Project-ShapeDetection\\shape_dataset2\\images\\train\\424.jpg: ignoring corrupt image/label: non-normalized or out of bounds coordinates [     1.0234      1.0195]\n",
      "\u001b[34m\u001b[1mtrain: \u001b[0mWARNING  C:\\Users\\endle\\.Uni\\Computer_Vision\\project_shapes\\CV-Project-ShapeDetection\\shape_dataset2\\images\\train\\43.jpg: ignoring corrupt image/label: non-normalized or out of bounds coordinates [     1.1133      1.1133]\n",
      "\u001b[34m\u001b[1mtrain: \u001b[0mWARNING  C:\\Users\\endle\\.Uni\\Computer_Vision\\project_shapes\\CV-Project-ShapeDetection\\shape_dataset2\\images\\train\\45.jpg: ignoring corrupt image/label: non-normalized or out of bounds coordinates [     1.0547      1.0508]\n",
      "\u001b[34m\u001b[1mtrain: \u001b[0mWARNING  C:\\Users\\endle\\.Uni\\Computer_Vision\\project_shapes\\CV-Project-ShapeDetection\\shape_dataset2\\images\\train\\538.jpg: ignoring corrupt image/label: non-normalized or out of bounds coordinates [     1.0273      1.0312]\n",
      "\u001b[34m\u001b[1mtrain: \u001b[0mWARNING  C:\\Users\\endle\\.Uni\\Computer_Vision\\project_shapes\\CV-Project-ShapeDetection\\shape_dataset2\\images\\train\\544.jpg: ignoring corrupt image/label: non-normalized or out of bounds coordinates [     1.0234      1.0234]\n",
      "\u001b[34m\u001b[1mtrain: \u001b[0mWARNING  C:\\Users\\endle\\.Uni\\Computer_Vision\\project_shapes\\CV-Project-ShapeDetection\\shape_dataset2\\images\\train\\563.jpg: ignoring corrupt image/label: non-normalized or out of bounds coordinates [     1.0859       1.082]\n",
      "\u001b[34m\u001b[1mtrain: \u001b[0mWARNING  C:\\Users\\endle\\.Uni\\Computer_Vision\\project_shapes\\CV-Project-ShapeDetection\\shape_dataset2\\images\\train\\576.jpg: ignoring corrupt image/label: non-normalized or out of bounds coordinates [     1.0352      1.0352]\n",
      "\u001b[34m\u001b[1mtrain: \u001b[0mWARNING  C:\\Users\\endle\\.Uni\\Computer_Vision\\project_shapes\\CV-Project-ShapeDetection\\shape_dataset2\\images\\train\\581.jpg: ignoring corrupt image/label: non-normalized or out of bounds coordinates [     1.0078      1.0078]\n",
      "\u001b[34m\u001b[1mtrain: \u001b[0mWARNING  C:\\Users\\endle\\.Uni\\Computer_Vision\\project_shapes\\CV-Project-ShapeDetection\\shape_dataset2\\images\\train\\600.jpg: ignoring corrupt image/label: non-normalized or out of bounds coordinates [     1.0859       1.082]\n",
      "\u001b[34m\u001b[1mtrain: \u001b[0mWARNING  C:\\Users\\endle\\.Uni\\Computer_Vision\\project_shapes\\CV-Project-ShapeDetection\\shape_dataset2\\images\\train\\610.jpg: ignoring corrupt image/label: non-normalized or out of bounds coordinates [     1.0547      1.0508]\n",
      "\u001b[34m\u001b[1mtrain: \u001b[0mWARNING  C:\\Users\\endle\\.Uni\\Computer_Vision\\project_shapes\\CV-Project-ShapeDetection\\shape_dataset2\\images\\train\\65.jpg: ignoring corrupt image/label: non-normalized or out of bounds coordinates [     1.0156      1.0156]\n",
      "\u001b[34m\u001b[1mtrain: \u001b[0mWARNING  C:\\Users\\endle\\.Uni\\Computer_Vision\\project_shapes\\CV-Project-ShapeDetection\\shape_dataset2\\images\\train\\663.jpg: ignoring corrupt image/label: non-normalized or out of bounds coordinates [     1.0117      1.0117]\n",
      "\u001b[34m\u001b[1mtrain: \u001b[0mWARNING  C:\\Users\\endle\\.Uni\\Computer_Vision\\project_shapes\\CV-Project-ShapeDetection\\shape_dataset2\\images\\train\\733.jpg: ignoring corrupt image/label: non-normalized or out of bounds coordinates [     1.0273      1.0312]\n",
      "\u001b[34m\u001b[1mtrain: \u001b[0mWARNING  C:\\Users\\endle\\.Uni\\Computer_Vision\\project_shapes\\CV-Project-ShapeDetection\\shape_dataset2\\images\\train\\769.jpg: ignoring corrupt image/label: non-normalized or out of bounds coordinates [     1.1172      1.1172]\n",
      "\u001b[34m\u001b[1mtrain: \u001b[0mWARNING  C:\\Users\\endle\\.Uni\\Computer_Vision\\project_shapes\\CV-Project-ShapeDetection\\shape_dataset2\\images\\train\\878.jpg: ignoring corrupt image/label: non-normalized or out of bounds coordinates [      1.043       1.043]\n",
      "\u001b[34m\u001b[1mtrain: \u001b[0mWARNING  C:\\Users\\endle\\.Uni\\Computer_Vision\\project_shapes\\CV-Project-ShapeDetection\\shape_dataset2\\images\\train\\897.jpg: ignoring corrupt image/label: non-normalized or out of bounds coordinates [      1.082      1.0859]\n"
     ]
    },
    {
     "name": "stderr",
     "output_type": "stream",
     "text": [
      "\n"
     ]
    },
    {
     "name": "stdout",
     "output_type": "stream",
     "text": [
      "\u001b[34m\u001b[1mtrain: \u001b[0mNew cache created: C:\\Users\\endle\\.Uni\\Computer_Vision\\project_shapes\\CV-Project-ShapeDetection\\shape_dataset2\\labels\\train.cache\n"
     ]
    },
    {
     "name": "stderr",
     "output_type": "stream",
     "text": [
      "\u001b[34m\u001b[1mval: \u001b[0mScanning C:\\Users\\endle\\.Uni\\Computer_Vision\\project_shapes\\CV-Project-ShapeDetection\\shape_dataset2\\labels\\val... 250 images, 0 backgrounds, 8 corrupt: 100%|██████████| 250/250 [00:00<00:00, 719.81it/s]"
     ]
    },
    {
     "name": "stdout",
     "output_type": "stream",
     "text": [
      "\u001b[34m\u001b[1mval: \u001b[0mWARNING  C:\\Users\\endle\\.Uni\\Computer_Vision\\project_shapes\\CV-Project-ShapeDetection\\shape_dataset2\\images\\val\\108.jpg: ignoring corrupt image/label: non-normalized or out of bounds coordinates [      1.082       1.082]\n",
      "\u001b[34m\u001b[1mval: \u001b[0mWARNING  C:\\Users\\endle\\.Uni\\Computer_Vision\\project_shapes\\CV-Project-ShapeDetection\\shape_dataset2\\images\\val\\117.jpg: ignoring corrupt image/label: non-normalized or out of bounds coordinates [     1.1211       1.125]\n",
      "\u001b[34m\u001b[1mval: \u001b[0mWARNING  C:\\Users\\endle\\.Uni\\Computer_Vision\\project_shapes\\CV-Project-ShapeDetection\\shape_dataset2\\images\\val\\167.jpg: ignoring corrupt image/label: non-normalized or out of bounds coordinates [     1.0391      1.0352]\n",
      "\u001b[34m\u001b[1mval: \u001b[0mWARNING  C:\\Users\\endle\\.Uni\\Computer_Vision\\project_shapes\\CV-Project-ShapeDetection\\shape_dataset2\\images\\val\\203.jpg: ignoring corrupt image/label: non-normalized or out of bounds coordinates [     1.0664      1.0664]\n",
      "\u001b[34m\u001b[1mval: \u001b[0mWARNING  C:\\Users\\endle\\.Uni\\Computer_Vision\\project_shapes\\CV-Project-ShapeDetection\\shape_dataset2\\images\\val\\206.jpg: ignoring corrupt image/label: non-normalized or out of bounds coordinates [     1.0039      1.0039]\n",
      "\u001b[34m\u001b[1mval: \u001b[0mWARNING  C:\\Users\\endle\\.Uni\\Computer_Vision\\project_shapes\\CV-Project-ShapeDetection\\shape_dataset2\\images\\val\\225.jpg: ignoring corrupt image/label: non-normalized or out of bounds coordinates [     1.0273      1.0273]\n",
      "\u001b[34m\u001b[1mval: \u001b[0mWARNING  C:\\Users\\endle\\.Uni\\Computer_Vision\\project_shapes\\CV-Project-ShapeDetection\\shape_dataset2\\images\\val\\34.jpg: ignoring corrupt image/label: non-normalized or out of bounds coordinates [     1.0039      1.0039]\n",
      "\u001b[34m\u001b[1mval: \u001b[0mWARNING  C:\\Users\\endle\\.Uni\\Computer_Vision\\project_shapes\\CV-Project-ShapeDetection\\shape_dataset2\\images\\val\\7.jpg: ignoring corrupt image/label: non-normalized or out of bounds coordinates [     1.0391      1.0391]\n",
      "\u001b[34m\u001b[1mval: \u001b[0mNew cache created: C:\\Users\\endle\\.Uni\\Computer_Vision\\project_shapes\\CV-Project-ShapeDetection\\shape_dataset2\\labels\\val.cache\n"
     ]
    },
    {
     "name": "stderr",
     "output_type": "stream",
     "text": [
      "\n"
     ]
    },
    {
     "name": "stdout",
     "output_type": "stream",
     "text": [
      "Plotting labels to runs\\detect\\yolo_shapes4\\labels.jpg... \n",
      "\u001b[34m\u001b[1moptimizer:\u001b[0m 'optimizer=auto' found, ignoring 'lr0=0.01' and 'momentum=0.937' and determining best 'optimizer', 'lr0' and 'momentum' automatically... \n",
      "\u001b[34m\u001b[1moptimizer:\u001b[0m AdamW(lr=0.001429, momentum=0.9) with parameter groups 57 weight(decay=0.0), 64 weight(decay=0.0005), 63 bias(decay=0.0)\n",
      "Image sizes 256 train, 256 val\n",
      "Using 8 dataloader workers\n",
      "Logging results to \u001b[1mruns\\detect\\yolo_shapes4\u001b[0m\n",
      "Starting training for 10 epochs...\n",
      "Closing dataloader mosaic\n",
      "\n",
      "      Epoch    GPU_mem   box_loss   cls_loss   dfl_loss  Instances       Size\n"
     ]
    },
    {
     "name": "stderr",
     "output_type": "stream",
     "text": [
      "       1/10     0.502G     0.5924      1.748     0.9993          7        256: 100%|██████████| 74/74 [00:04<00:00, 14.93it/s]\n",
      "                 Class     Images  Instances      Box(P          R      mAP50  mAP50-95): 100%|██████████| 8/8 [00:00<00:00,  8.63it/s]"
     ]
    },
    {
     "name": "stdout",
     "output_type": "stream",
     "text": [
      "                   all        242        369      0.725      0.655      0.709       0.63\n"
     ]
    },
    {
     "name": "stderr",
     "output_type": "stream",
     "text": [
      "\n"
     ]
    },
    {
     "name": "stdout",
     "output_type": "stream",
     "text": [
      "\n",
      "      Epoch    GPU_mem   box_loss   cls_loss   dfl_loss  Instances       Size\n"
     ]
    },
    {
     "name": "stderr",
     "output_type": "stream",
     "text": [
      "       2/10      0.52G     0.5926     0.9813     0.9694          4        256: 100%|██████████| 74/74 [00:04<00:00, 18.35it/s]\n",
      "                 Class     Images  Instances      Box(P          R      mAP50  mAP50-95): 100%|██████████| 8/8 [00:00<00:00,  9.61it/s]\n"
     ]
    },
    {
     "name": "stdout",
     "output_type": "stream",
     "text": [
      "                   all        242        369      0.827      0.844      0.894      0.772\n",
      "\n",
      "      Epoch    GPU_mem   box_loss   cls_loss   dfl_loss  Instances       Size\n"
     ]
    },
    {
     "name": "stderr",
     "output_type": "stream",
     "text": [
      "       3/10     0.537G     0.5957     0.8948     0.9711          6        256: 100%|██████████| 74/74 [00:03<00:00, 19.08it/s]\n",
      "                 Class     Images  Instances      Box(P          R      mAP50  mAP50-95): 100%|██████████| 8/8 [00:00<00:00,  9.75it/s]"
     ]
    },
    {
     "name": "stdout",
     "output_type": "stream",
     "text": [
      "                   all        242        369      0.871      0.856       0.89      0.774\n"
     ]
    },
    {
     "name": "stderr",
     "output_type": "stream",
     "text": [
      "\n"
     ]
    },
    {
     "name": "stdout",
     "output_type": "stream",
     "text": [
      "\n",
      "      Epoch    GPU_mem   box_loss   cls_loss   dfl_loss  Instances       Size\n"
     ]
    },
    {
     "name": "stderr",
     "output_type": "stream",
     "text": [
      "       4/10     0.555G     0.5656     0.8348     0.9589          5        256: 100%|██████████| 74/74 [00:03<00:00, 18.83it/s]\n",
      "                 Class     Images  Instances      Box(P          R      mAP50  mAP50-95): 100%|██████████| 8/8 [00:00<00:00,  9.52it/s]\n"
     ]
    },
    {
     "name": "stdout",
     "output_type": "stream",
     "text": [
      "                   all        242        369      0.915      0.827      0.933      0.833\n",
      "\n",
      "      Epoch    GPU_mem   box_loss   cls_loss   dfl_loss  Instances       Size\n"
     ]
    },
    {
     "name": "stderr",
     "output_type": "stream",
     "text": [
      "       5/10      0.57G     0.5324     0.7579     0.9426          4        256: 100%|██████████| 74/74 [00:03<00:00, 19.05it/s]\n",
      "                 Class     Images  Instances      Box(P          R      mAP50  mAP50-95): 100%|██████████| 8/8 [00:00<00:00,  9.44it/s]\n"
     ]
    },
    {
     "name": "stdout",
     "output_type": "stream",
     "text": [
      "                   all        242        369      0.919      0.888      0.939      0.847\n",
      "\n",
      "      Epoch    GPU_mem   box_loss   cls_loss   dfl_loss  Instances       Size\n"
     ]
    },
    {
     "name": "stderr",
     "output_type": "stream",
     "text": [
      "       6/10     0.588G     0.5169     0.7117     0.9267          4        256: 100%|██████████| 74/74 [00:03<00:00, 19.40it/s]\n",
      "                 Class     Images  Instances      Box(P          R      mAP50  mAP50-95): 100%|██████████| 8/8 [00:00<00:00,  9.66it/s]"
     ]
    },
    {
     "name": "stdout",
     "output_type": "stream",
     "text": [
      "                   all        242        369      0.954       0.88      0.938      0.869\n"
     ]
    },
    {
     "name": "stderr",
     "output_type": "stream",
     "text": [
      "\n"
     ]
    },
    {
     "name": "stdout",
     "output_type": "stream",
     "text": [
      "\n",
      "      Epoch    GPU_mem   box_loss   cls_loss   dfl_loss  Instances       Size\n"
     ]
    },
    {
     "name": "stderr",
     "output_type": "stream",
     "text": [
      "       7/10     0.605G     0.4587     0.6217     0.9148          7        256: 100%|██████████| 74/74 [00:03<00:00, 19.36it/s]\n",
      "                 Class     Images  Instances      Box(P          R      mAP50  mAP50-95): 100%|██████████| 8/8 [00:00<00:00,  9.80it/s]\n"
     ]
    },
    {
     "name": "stdout",
     "output_type": "stream",
     "text": [
      "                   all        242        369      0.975      0.916      0.957      0.891\n",
      "\n",
      "      Epoch    GPU_mem   box_loss   cls_loss   dfl_loss  Instances       Size\n"
     ]
    },
    {
     "name": "stderr",
     "output_type": "stream",
     "text": [
      "       8/10     0.621G     0.4287     0.5533     0.9006          6        256: 100%|██████████| 74/74 [00:03<00:00, 19.13it/s]\n",
      "                 Class     Images  Instances      Box(P          R      mAP50  mAP50-95): 100%|██████████| 8/8 [00:00<00:00,  9.71it/s]"
     ]
    },
    {
     "name": "stdout",
     "output_type": "stream",
     "text": [
      "                   all        242        369      0.992      0.907      0.962      0.908\n"
     ]
    },
    {
     "name": "stderr",
     "output_type": "stream",
     "text": [
      "\n"
     ]
    },
    {
     "name": "stdout",
     "output_type": "stream",
     "text": [
      "\n",
      "      Epoch    GPU_mem   box_loss   cls_loss   dfl_loss  Instances       Size\n"
     ]
    },
    {
     "name": "stderr",
     "output_type": "stream",
     "text": [
      "       9/10     0.639G     0.4022     0.5091     0.8901          5        256: 100%|██████████| 74/74 [00:03<00:00, 19.17it/s]\n",
      "                 Class     Images  Instances      Box(P          R      mAP50  mAP50-95): 100%|██████████| 8/8 [00:00<00:00,  9.70it/s]\n"
     ]
    },
    {
     "name": "stdout",
     "output_type": "stream",
     "text": [
      "                   all        242        369      0.995      0.928      0.966      0.916\n",
      "\n",
      "      Epoch    GPU_mem   box_loss   cls_loss   dfl_loss  Instances       Size\n"
     ]
    },
    {
     "name": "stderr",
     "output_type": "stream",
     "text": [
      "      10/10     0.656G     0.3703       0.48     0.8808          7        256: 100%|██████████| 74/74 [00:03<00:00, 19.12it/s]\n",
      "                 Class     Images  Instances      Box(P          R      mAP50  mAP50-95): 100%|██████████| 8/8 [00:00<00:00,  9.71it/s]\n"
     ]
    },
    {
     "name": "stdout",
     "output_type": "stream",
     "text": [
      "                   all        242        369       0.99      0.929      0.966      0.925\n",
      "\n",
      "10 epochs completed in 0.022 hours.\n",
      "Optimizer stripped from runs\\detect\\yolo_shapes4\\weights\\last.pt, 6.2MB\n",
      "Optimizer stripped from runs\\detect\\yolo_shapes4\\weights\\best.pt, 6.2MB\n",
      "\n",
      "Validating runs\\detect\\yolo_shapes4\\weights\\best.pt...\n",
      "Ultralytics 8.3.88  Python-3.12.7 torch-2.6.0+cu126 CUDA:0 (NVIDIA GeForce RTX 4070, 12281MiB)\n",
      "Model summary (fused): 72 layers, 3,006,233 parameters, 0 gradients, 8.1 GFLOPs\n"
     ]
    },
    {
     "name": "stderr",
     "output_type": "stream",
     "text": [
      "                 Class     Images  Instances      Box(P          R      mAP50  mAP50-95): 100%|██████████| 8/8 [00:01<00:00,  7.30it/s]\n"
     ]
    },
    {
     "name": "stdout",
     "output_type": "stream",
     "text": [
      "                   all        242        369       0.99      0.929      0.966      0.925\n",
      "                circle        113        126      0.982      0.976      0.984      0.956\n",
      "                square        105        117          1      0.939      0.989      0.951\n",
      "              triangle        112        126      0.989      0.873      0.925      0.868\n",
      "Speed: 0.1ms preprocess, 0.4ms inference, 0.0ms loss, 1.2ms postprocess per image\n",
      "Results saved to \u001b[1mruns\\detect\\yolo_shapes4\u001b[0m\n",
      "Ultralytics 8.3.88  Python-3.12.7 torch-2.6.0+cu126 CUDA:0 (NVIDIA GeForce RTX 4070, 12281MiB)\n",
      "Model summary (fused): 72 layers, 3,006,233 parameters, 0 gradients, 8.1 GFLOPs\n"
     ]
    },
    {
     "name": "stderr",
     "output_type": "stream",
     "text": [
      "\u001b[34m\u001b[1mval: \u001b[0mScanning C:\\Users\\endle\\.Uni\\Computer_Vision\\project_shapes\\CV-Project-ShapeDetection\\shape_dataset2\\labels\\val.cache... 250 images, 0 backgrounds, 8 corrupt: 100%|██████████| 250/250 [00:00<?, ?it/s]"
     ]
    },
    {
     "name": "stdout",
     "output_type": "stream",
     "text": [
      "\u001b[34m\u001b[1mval: \u001b[0mWARNING  C:\\Users\\endle\\.Uni\\Computer_Vision\\project_shapes\\CV-Project-ShapeDetection\\shape_dataset2\\images\\val\\108.jpg: ignoring corrupt image/label: non-normalized or out of bounds coordinates [      1.082       1.082]\n",
      "\u001b[34m\u001b[1mval: \u001b[0mWARNING  C:\\Users\\endle\\.Uni\\Computer_Vision\\project_shapes\\CV-Project-ShapeDetection\\shape_dataset2\\images\\val\\117.jpg: ignoring corrupt image/label: non-normalized or out of bounds coordinates [     1.1211       1.125]\n",
      "\u001b[34m\u001b[1mval: \u001b[0mWARNING  C:\\Users\\endle\\.Uni\\Computer_Vision\\project_shapes\\CV-Project-ShapeDetection\\shape_dataset2\\images\\val\\167.jpg: ignoring corrupt image/label: non-normalized or out of bounds coordinates [     1.0391      1.0352]\n",
      "\u001b[34m\u001b[1mval: \u001b[0mWARNING  C:\\Users\\endle\\.Uni\\Computer_Vision\\project_shapes\\CV-Project-ShapeDetection\\shape_dataset2\\images\\val\\203.jpg: ignoring corrupt image/label: non-normalized or out of bounds coordinates [     1.0664      1.0664]\n",
      "\u001b[34m\u001b[1mval: \u001b[0mWARNING  C:\\Users\\endle\\.Uni\\Computer_Vision\\project_shapes\\CV-Project-ShapeDetection\\shape_dataset2\\images\\val\\206.jpg: ignoring corrupt image/label: non-normalized or out of bounds coordinates [     1.0039      1.0039]\n",
      "\u001b[34m\u001b[1mval: \u001b[0mWARNING  C:\\Users\\endle\\.Uni\\Computer_Vision\\project_shapes\\CV-Project-ShapeDetection\\shape_dataset2\\images\\val\\225.jpg: ignoring corrupt image/label: non-normalized or out of bounds coordinates [     1.0273      1.0273]\n",
      "\u001b[34m\u001b[1mval: \u001b[0mWARNING  C:\\Users\\endle\\.Uni\\Computer_Vision\\project_shapes\\CV-Project-ShapeDetection\\shape_dataset2\\images\\val\\34.jpg: ignoring corrupt image/label: non-normalized or out of bounds coordinates [     1.0039      1.0039]\n",
      "\u001b[34m\u001b[1mval: \u001b[0mWARNING  C:\\Users\\endle\\.Uni\\Computer_Vision\\project_shapes\\CV-Project-ShapeDetection\\shape_dataset2\\images\\val\\7.jpg: ignoring corrupt image/label: non-normalized or out of bounds coordinates [     1.0391      1.0391]\n"
     ]
    },
    {
     "name": "stderr",
     "output_type": "stream",
     "text": [
      "\n",
      "                 Class     Images  Instances      Box(P          R      mAP50  mAP50-95): 100%|██████████| 16/16 [00:01<00:00,  9.54it/s]\n"
     ]
    },
    {
     "name": "stdout",
     "output_type": "stream",
     "text": [
      "                   all        242        369       0.99      0.929      0.966      0.924\n",
      "                circle        113        126      0.982      0.976      0.984      0.956\n",
      "                square        105        117          1      0.939      0.989       0.95\n",
      "              triangle        112        126      0.989      0.873      0.925      0.866\n",
      "Speed: 0.3ms preprocess, 2.2ms inference, 0.0ms loss, 1.1ms postprocess per image\n",
      "Results saved to \u001b[1mruns\\detect\\yolo_shapes42\u001b[0m\n"
     ]
    }
   ],
   "source": [
    "yaml_path = \"./shape_dataset2/shapes.yaml\" # path to the yaml file for the dataset\n",
    "\n",
    "# train model on dataset using yaml file\n",
    "train_results = model.train(\n",
    "    data = yaml_path,\n",
    "    epochs = 10,\n",
    "    imgsz = 256,\n",
    "    batch = 16,\n",
    "    name = \"yolo_shapes\",\n",
    "    project = \"./runs/detect\",)\n",
    "\n",
    "# evaluate model on dataset using yaml file\n",
    "results = model.val(data = yaml_path)"
   ]
  },
  {
   "cell_type": "code",
   "execution_count": 30,
   "metadata": {},
   "outputs": [
    {
     "name": "stdout",
     "output_type": "stream",
     "text": [
      "\n",
      "image 1/1 c:\\Users\\endle\\.Uni\\Computer_Vision\\project_shapes\\CV-Project-ShapeDetection\\test_images\\image6.png: 160x256 2 squares, 24.6ms\n",
      "Speed: 0.9ms preprocess, 24.6ms inference, 3.0ms postprocess per image at shape (1, 3, 160, 256)\n"
     ]
    },
    {
     "data": {
      "image/png": "[encoded data removed]",
      "text/plain": [
       "<Figure size 640x480 with 1 Axes>"
      ]
     },
     "metadata": {},
     "output_type": "display_data"
    }
   ],
   "source": [
    "# test model on a test image\n",
    "image_path = \"test_images/image6.png\" # path to the test image\n",
    "\n",
    "# Load the trained model\n",
    "trained_model = YOLO(\"./runs/detect/yolo_shapes4/weights/best.pt\")  \n",
    "\n",
    "# Run inference\n",
    "# results = trained_model.predict(source=image_path, save=True, project = \"./runs/detect\")  # Save output image with detections\n",
    "results = trained_model.predict(source = image_path, save = False)\n",
    "\n",
    "# Access the first result and render it\n",
    "annotated_image = results[0].plot()  # Returns image with bounding boxes (as a NumPy array)\n",
    "\n",
    "# Display it with matplotlib\n",
    "plt.imshow(cv2.cvtColor(annotated_image, cv2.COLOR_BGR2RGB))\n",
    "plt.axis('off')\n",
    "plt.show()"
   ]
  },
  {
   "cell_type": "code",
   "execution_count": null,
   "metadata": {},
   "outputs": [],
   "source": []
  }
 ],
 "metadata": {
  "kernelspec": {
   "display_name": "base",
   "language": "python",
   "name": "python3"
  },
  "language_info": {
   "codemirror_mode": {
    "name": "ipython",
    "version": 3
   },
   "file_extension": ".py",
   "mimetype": "text/x-python",
   "name": "python",
   "nbconvert_exporter": "python",
   "pygments_lexer": "ipython3",
   "version": "3.12.7"
  }
 },
 "nbformat": 4,
 "nbformat_minor": 2
}
